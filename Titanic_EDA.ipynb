{
  "nbformat": 4,
  "nbformat_minor": 0,
  "metadata": {
    "colab": {
      "provenance": [],
      "authorship_tag": "ABX9TyNo3k/zOdZw4mrv+A7pW/Bf"
    },
    "kernelspec": {
      "name": "python3",
      "display_name": "Python 3"
    },
    "language_info": {
      "name": "python"
    }
  },
  "cells": [
    {
      "cell_type": "code",
      "execution_count": 67,
      "metadata": {
        "id": "nPdRX2Fcrz7G"
      },
      "outputs": [],
      "source": [
        "import pandas as pd\n",
        "import numpy as np"
      ]
    },
    {
      "cell_type": "code",
      "source": [
        "# Load the Titanic dataset into a Pandas DataFrame.\n",
        "df = pd.read_csv(\"/content/train_and_test.csv\")\n",
        "# print(df)\n",
        "\n",
        "# How many rows and columns are there?\n",
        "# 1309 rows x 28 columns\n",
        "# What are the column names?\n",
        "# Passengerid      int64\n",
        "# Age            float64\n",
        "# Fare           float64\n",
        "# Sex              int64\n",
        "# sibsp            int64\n",
        "# zero             int64\n",
        "# zero.1           int64\n",
        "# zero.2           int64\n",
        "# zero.3           int64\n",
        "# zero.4           int64\n",
        "# zero.5           int64\n",
        "# zero.6           int64\n",
        "# Parch            int64\n",
        "# zero.7           int64\n",
        "# zero.8           int64\n",
        "# zero.9           int64\n",
        "# zero.10          int64\n",
        "# zero.11          int64\n",
        "# zero.12          int64\n",
        "# zero.13          int64\n",
        "# zero.14          int64\n",
        "# Pclass           int64\n",
        "# zero.15          int64\n",
        "# zero.16          int64\n",
        "# Embarked       float64\n",
        "# zero.17          int64\n",
        "# zero.18          int64\n",
        "# 2urvived         int64\n",
        "# Check data types of each column. Which columns contain missing values?\n",
        "# print(df['Embarked'].isnull().sum()) --> this has 2 NULL values"
      ],
      "metadata": {
        "id": "NGoTXQTDr6nj"
      },
      "execution_count": 88,
      "outputs": []
    },
    {
      "cell_type": "markdown",
      "source": [
        "👨‍👩‍👧 Passenger Demographics"
      ],
      "metadata": {
        "id": "MrmLEx7a_GDU"
      }
    },
    {
      "cell_type": "code",
      "source": [
        "# How many passengers survived vs. did not survive?\n",
        "# print(df['2urvived'].value_counts())\n",
        "# How many male and female passengers were there?\n",
        "# print(df['Sex'].value_counts())\n",
        "# What is the average age of passengers?\n",
        "# print(df['Age'].mean())\n",
        "# Find the youngest and oldest passenger.\n",
        "# print(df['Age'].min())\n",
        "# print(df['Age'].max())\n",
        "# How many children (age < 12) were onboard? (91)\n",
        "# print(df[df['Age'] < 12].count()) this is wrong because I count all values in column but I want to count num of rows\n",
        "# len(df[df['Age'] < 12])"
      ],
      "metadata": {
        "id": "bDCcUJv0sjSG"
      },
      "execution_count": 69,
      "outputs": []
    },
    {
      "cell_type": "markdown",
      "source": [
        "💰 Tickets & *Fare*"
      ],
      "metadata": {
        "id": "-ImDBZghGApO"
      }
    },
    {
      "cell_type": "code",
      "source": [
        "# What is the average fare of passengers?\n",
        "# print(df['Fare'].mean())\n",
        "# Which passenger paid the highest fare?\n",
        "# print(df[df['Fare'] >= df['Fare'].max()]['Passengerid']) -> [259, 680, 738, 1235]\n",
        "# Group by Pclass (Passenger Class) and find the average fare for each class.\n",
        "# print(df.groupby('Pclass')['Fare'].mean())\n",
        "# 1    87.508992\n",
        "# 2    21.179196\n",
        "# 3    13.304513"
      ],
      "metadata": {
        "id": "LXoLR87zGB6v"
      },
      "execution_count": 70,
      "outputs": []
    },
    {
      "cell_type": "markdown",
      "source": [
        "🛏️ Passenger Class & Survival"
      ],
      "metadata": {
        "id": "FZEAUKjxLloO"
      }
    },
    {
      "cell_type": "code",
      "source": [
        "# How many passengers were in 1st, 2nd, and 3rd class?\n",
        "# print(df.groupby('Pclass')['Passengerid'].count())\n",
        "# Pclass\n",
        "# 1    323\n",
        "# 2    277\n",
        "# 3    709\n",
        "# What was the survival rate for each class?\n",
        "# print(df.groupby('Pclass')['2urvived'].value_counts())\n",
        "# Pclass  2urvived\n",
        "# 1       0           187\n",
        "#         1           136\n",
        "# 2       0           190\n",
        "#         1            87\n",
        "# 3       0           590\n",
        "#         1           119\n",
        "# This gives counts (how many survived vs. died), not rates.\n",
        "# so the real answer is\n",
        "# print(df.groupby('Pclass')['2urvived'].mean())\n",
        "# Pclass\n",
        "# 1    0.62\n",
        "# 2    0.44\n",
        "# 3    0.24\n",
        "# (meaning 62% of 1st class passengers survived, 44% of 2nd, 24% of 3rd).\n",
        "# Compare survival rates of male vs female.\n",
        "# print(df.groupby('Sex')['2urvived'].value_counts())\n",
        "# Sex  2urvived\n",
        "# 0    0           734\n",
        "#      1           109\n",
        "# 1    0           233\n",
        "#      1           233\n",
        "# this also give counts how many males and females survive but not returning rates\n",
        "# print(df.groupby('Sex')['Survived'].mean())\n",
        "# Sex\n",
        "# 0 (male)      0.13\n",
        "# 1 (female)    0.50\n",
        "# (≈13% of men survived vs. ≈50% of women)."
      ],
      "metadata": {
        "id": "3ksZ3-HvLnJP"
      },
      "execution_count": 71,
      "outputs": []
    },
    {
      "cell_type": "markdown",
      "source": [
        "👨‍👩‍👧 Family Relations"
      ],
      "metadata": {
        "id": "sd3CXaFWNh3-"
      }
    },
    {
      "cell_type": "code",
      "source": [
        "# Create a new column FamilySize = SibSp + Parch + 1.\n",
        "df['FamilySize'] = df['sibsp'] + df['Parch'] + 1\n",
        "# print(df['FamilySize'])\n",
        "# Find the average family size onboard.\n",
        "# print(df['FamilySize'].mean())\n",
        "# Did passengers with larger families have a higher or lower survival rate?\n",
        "# print(df[df['FamilySize'] > df['FamilySize'].mean()]['2urvived'].value_counts())\n",
        "# 2urvived\n",
        "# 0    340\n",
        "# 1    179"
      ],
      "metadata": {
        "colab": {
          "base_uri": "https://localhost:8080/"
        },
        "id": "o00KHUC6NkdS",
        "outputId": "96fc00cf-a1e8-4db1-8073-447ded7677ce"
      },
      "execution_count": 75,
      "outputs": [
        {
          "output_type": "stream",
          "name": "stdout",
          "text": [
            "2urvived\n",
            "0    340\n",
            "1    179\n",
            "Name: count, dtype: int64\n"
          ]
        }
      ]
    },
    {
      "cell_type": "markdown",
      "source": [
        "🧹 Data Cleaning Practice"
      ],
      "metadata": {
        "id": "3qecOjFgQ8gh"
      }
    },
    {
      "cell_type": "code",
      "source": [
        "# Fill missing ages with the mean age.\n",
        "# Calculate the mean of 'Age'\n",
        "# mean_age = df['Age'].mean()\n",
        "# Fill missing values in 'Age' with its mean\n",
        "# df['Age'] = df['Age'].fillna(mean_age)\n",
        "# --\n",
        "# Fill missing Embarked values with the most frequent port.\n",
        "# embarked_mode = df['Embarked'].mode().iloc[0]\n",
        "# df['Embarked'] = df['Embarked'].fillna(embarked_mode)\n",
        "# print(df['Embarked'].isnull().sum())\n",
        "# Drop the Cabin column (too many missing values).\n",
        "# df.drop('Cabin', axis=1, inplace=True) # axis=1 specifies dropping a column"
      ],
      "metadata": {
        "colab": {
          "base_uri": "https://localhost:8080/"
        },
        "id": "kdUOP6sAQ9sg",
        "outputId": "e76bfc54-22fa-45f8-ac9f-d43855ed6853"
      },
      "execution_count": 87,
      "outputs": [
        {
          "output_type": "stream",
          "name": "stdout",
          "text": [
            "0\n"
          ]
        }
      ]
    }
  ]
}